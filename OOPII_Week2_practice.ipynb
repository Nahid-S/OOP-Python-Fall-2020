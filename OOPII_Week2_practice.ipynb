{
  "nbformat": 4,
  "nbformat_minor": 0,
  "metadata": {
    "colab": {
      "name": "OOPII-Week2-practice.ipynb",
      "provenance": [],
      "authorship_tag": "ABX9TyO91hSjF8AzMTu8pdyYf/E9",
      "include_colab_link": true
    },
    "kernelspec": {
      "name": "python3",
      "display_name": "Python 3"
    }
  },
  "cells": [
    {
      "cell_type": "markdown",
      "metadata": {
        "id": "view-in-github",
        "colab_type": "text"
      },
      "source": [
        "<a href=\"https://colab.research.google.com/github/rajuiit/OOP-Python-Fall-2020/blob/master/OOPII_Week2_practice.ipynb\" target=\"_parent\"><img src=\"https://colab.research.google.com/assets/colab-badge.svg\" alt=\"Open In Colab\"/></a>"
      ]
    },
    {
      "cell_type": "markdown",
      "metadata": {
        "id": "k_dWTnLOz2Vt"
      },
      "source": [
        "# **Variables and Assignment Statements**\n",
        "---\n"
      ]
    },
    {
      "cell_type": "code",
      "metadata": {
        "id": "5ffXJOLjy-7U",
        "outputId": "2840e992-c30b-4511-aa75-168de6cf7636",
        "colab": {
          "base_uri": "https://localhost:8080/",
          "height": 34
        }
      },
      "source": [
        "x = 6\n",
        "y = 8\n",
        "z=x+y\n",
        "print(z)"
      ],
      "execution_count": null,
      "outputs": [
        {
          "output_type": "stream",
          "text": [
            "14\n"
          ],
          "name": "stdout"
        }
      ]
    },
    {
      "cell_type": "markdown",
      "metadata": {
        "id": "kgQ2X9GI0jwH"
      },
      "source": [
        "#**String Output**"
      ]
    },
    {
      "cell_type": "code",
      "metadata": {
        "id": "pWhdDYeM0ipO",
        "outputId": "dcbd6209-b3e0-42a4-cf94-2b53b05b42a2",
        "colab": {
          "base_uri": "https://localhost:8080/",
          "height": 34
        }
      },
      "source": [
        "name1 = \"Ikram\"\n",
        "name2=\"Hossain\"\n",
        "print(name1,name2)"
      ],
      "execution_count": null,
      "outputs": [
        {
          "output_type": "stream",
          "text": [
            "Ikram Hossain\n"
          ],
          "name": "stdout"
        }
      ]
    },
    {
      "cell_type": "code",
      "metadata": {
        "id": "FyybSbFK06lh"
      },
      "source": [
        ""
      ],
      "execution_count": null,
      "outputs": []
    },
    {
      "cell_type": "markdown",
      "metadata": {
        "id": "slnk0Jgd0_D_"
      },
      "source": [
        "#Type\n"
      ]
    },
    {
      "cell_type": "code",
      "metadata": {
        "id": "ico3Z5vy1BGl",
        "outputId": "f5989fa1-1aa8-43f7-be4b-d72ac0e9052a",
        "colab": {
          "base_uri": "https://localhost:8080/",
          "height": 34
        }
      },
      "source": [
        "type(x)"
      ],
      "execution_count": null,
      "outputs": [
        {
          "output_type": "execute_result",
          "data": {
            "text/plain": [
              "int"
            ]
          },
          "metadata": {
            "tags": []
          },
          "execution_count": 4
        }
      ]
    },
    {
      "cell_type": "code",
      "metadata": {
        "id": "oYPEvUlZ1FQS",
        "outputId": "ba4a794f-d807-42ad-dc4b-b6ba7b49cfde",
        "colab": {
          "base_uri": "https://localhost:8080/",
          "height": 34
        }
      },
      "source": [
        "type(name1)"
      ],
      "execution_count": null,
      "outputs": [
        {
          "output_type": "execute_result",
          "data": {
            "text/plain": [
              "str"
            ]
          },
          "metadata": {
            "tags": []
          },
          "execution_count": 5
        }
      ]
    },
    {
      "cell_type": "code",
      "metadata": {
        "id": "lXKqTtvU1Qyh"
      },
      "source": [
        ""
      ],
      "execution_count": null,
      "outputs": []
    },
    {
      "cell_type": "markdown",
      "metadata": {
        "id": "x3CI6WjQ1RTL"
      },
      "source": [
        "# **Arithmetic operators**\n"
      ]
    },
    {
      "cell_type": "code",
      "metadata": {
        "id": "ZDS3coqk1QxR",
        "outputId": "7e72396e-3f06-44f0-cc87-3a4121bcc83b",
        "colab": {
          "base_uri": "https://localhost:8080/",
          "height": 34
        }
      },
      "source": [
        "exponent = 2**3\n",
        "print(exponent)"
      ],
      "execution_count": null,
      "outputs": [
        {
          "output_type": "stream",
          "text": [
            "8\n"
          ],
          "name": "stdout"
        }
      ]
    },
    {
      "cell_type": "code",
      "metadata": {
        "id": "wgXDkPqe1pyJ",
        "outputId": "774d0a80-7d45-43d2-ae59-c94603a998a4",
        "colab": {
          "base_uri": "https://localhost:8080/",
          "height": 34
        }
      },
      "source": [
        "Floor_Division = 7//4\n",
        "print(Floor_Division)"
      ],
      "execution_count": null,
      "outputs": [
        {
          "output_type": "stream",
          "text": [
            "1\n"
          ],
          "name": "stdout"
        }
      ]
    },
    {
      "cell_type": "markdown",
      "metadata": {
        "id": "5vs6lK995gCM"
      },
      "source": [
        "#Control Structure"
      ]
    },
    {
      "cell_type": "code",
      "metadata": {
        "id": "Vh2DG7TK5ezQ",
        "outputId": "82ff5f3d-ad48-48df-eb33-0b5e04d0fbd7",
        "colab": {
          "base_uri": "https://localhost:8080/",
          "height": 34
        }
      },
      "source": [
        "grade=70\n",
        "if grade>60:\n",
        "  print(\"Passed\");"
      ],
      "execution_count": null,
      "outputs": [
        {
          "output_type": "stream",
          "text": [
            "Passed\n"
          ],
          "name": "stdout"
        }
      ]
    },
    {
      "cell_type": "code",
      "metadata": {
        "id": "iO8pARkO5ySr",
        "outputId": "064037ca-cf70-4ab9-d775-3e7cf6578172",
        "colab": {
          "base_uri": "https://localhost:8080/",
          "height": 51
        }
      },
      "source": [
        "grade=80\n",
        "if grade>60:\n",
        "  print(\"Passed\")\n",
        "  print(\"B+\")\n",
        "else:\n",
        "  print(\"Failed\")"
      ],
      "execution_count": null,
      "outputs": [
        {
          "output_type": "stream",
          "text": [
            "Passed\n",
            "B+\n"
          ],
          "name": "stdout"
        }
      ]
    }
  ]
}